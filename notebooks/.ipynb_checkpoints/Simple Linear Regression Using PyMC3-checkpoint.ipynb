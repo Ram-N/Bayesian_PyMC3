{
 "cells": [
  {
   "cell_type": "markdown",
   "metadata": {},
   "source": [
    "# Using PyMC3 to fit a Linear Regression Model\n",
    "\n",
    "Ram Narasimhan"
   ]
  },
  {
   "cell_type": "code",
   "execution_count": 1,
   "metadata": {},
   "outputs": [
    {
     "name": "stderr",
     "output_type": "stream",
     "text": [
      "WARNING (theano.configdefaults): g++ not available, if using conda: `conda install m2w64-toolchain`\n",
      "C:\\Users\\ramna\\Anaconda3\\lib\\site-packages\\theano\\configdefaults.py:560: UserWarning: DeprecationWarning: there is no c++ compiler.This is deprecated and with Theano 0.11 a c++ compiler will be mandatory\n",
      "  warnings.warn(\"DeprecationWarning: there is no c++ compiler.\"\n",
      "WARNING (theano.configdefaults): g++ not detected ! Theano will be unable to execute optimized C-implementations (for both CPU and GPU) and will default to Python implementations. Performance will be severely degraded. To remove this warning, set Theano flags cxx to an empty string.\n",
      "WARNING (theano.tensor.blas): Using NumPy C-API based implementation for BLAS functions.\n"
     ]
    }
   ],
   "source": [
    "import pymc3 as pm\n",
    "import numpy as np\n",
    "import matplotlib.pyplot as plt"
   ]
  },
  {
   "cell_type": "markdown",
   "metadata": {},
   "source": [
    "This example is from **Disease Modeling with Scipy and PyMC - Dean Langsam - PyCon Israel 2019**\n",
    "\n",
    "Let's generate some synthetic data"
   ]
  },
  {
   "cell_type": "code",
   "execution_count": 2,
   "metadata": {},
   "outputs": [],
   "source": [
    "np.random.seed(7)\n",
    "S = 50\n",
    "x = np.linspace(2, 10, S)\n",
    "y = 3*x + 4 \n",
    "y += np.random.normal(scale=2, size= S)"
   ]
  },
  {
   "cell_type": "code",
   "execution_count": 3,
   "metadata": {},
   "outputs": [
    {
     "data": {
      "text/plain": [
       "[<matplotlib.lines.Line2D at 0x21bdf4e0988>]"
      ]
     },
     "execution_count": 3,
     "metadata": {},
     "output_type": "execute_result"
    },
    {
     "data": {
      "image/png": "[encoded data removed]",
      "text/plain": [
       "<Figure size 432x288 with 1 Axes>"
      ]
     },
     "metadata": {
      "needs_background": "light"
     },
     "output_type": "display_data"
    }
   ],
   "source": [
    "plt.plot(x, y, '.')"
   ]
  },
  {
   "cell_type": "code",
   "execution_count": 4,
   "metadata": {},
   "outputs": [],
   "source": [
    "with pm.Model() as model:\n",
    "    \n",
    "    #define priors\n",
    "    sigma = pm.HalfNormal('sigma', sd=10)\n",
    "    m = pm.Uniform('slope', 0, 10)\n",
    "    c = pm.Uniform('intercept', 0, 10)\n",
    "    \n",
    "    yhat = m * x + c \n",
    "    \n",
    "    #define Likelihood\n",
    "    likelihood = pm.Normal('y',\n",
    "                           mu = yhat, sigma = sigma,\n",
    "                           observed = y)\n",
    "        "
   ]
  },
  {
   "cell_type": "code",
   "execution_count": 5,
   "metadata": {},
   "outputs": [
    {
     "data": {
      "text/latex": [
       "$$\n",
       "            \\begin{array}{rcl}\n",
       "            \\text{sigma} &\\sim & \\text{HalfNormal}(\\mathit{sigma}=10.0)\\\\\\text{slope} &\\sim & \\text{Uniform}(\\mathit{lower}=0.0,~\\mathit{upper}=10.0)\\\\\\text{intercept} &\\sim & \\text{Uniform}(\\mathit{lower}=0.0,~\\mathit{upper}=10.0)\\\\\\text{y} &\\sim & \\text{Normal}(\\mathit{mu}=f(f(f(\\text{slope}),~array),~f(\\text{intercept})),~\\mathit{sigma}=f(\\text{sigma}))\n",
       "            \\end{array}\n",
       "            $$"
      ],
      "text/plain": [
       "<pymc3.model.Model at 0x21bdf8f0b48>"
      ]
     },
     "execution_count": 5,
     "metadata": {},
     "output_type": "execute_result"
    }
   ],
   "source": [
    "model"
   ]
  },
  {
   "cell_type": "code",
   "execution_count": 6,
   "metadata": {},
   "outputs": [
    {
     "data": {
      "text/plain": [
       "50"
      ]
     },
     "execution_count": 6,
     "metadata": {},
     "output_type": "execute_result"
    }
   ],
   "source": [
    "len(y) # Number of observations we have"
   ]
  },
  {
   "cell_type": "markdown",
   "metadata": {},
   "source": [
    "# Ready to Start Sampling\n",
    "\n",
    "We are going to sample (draw from) 10,000 times. Each attempt will get us one set of (m, x, and sigma).\n",
    "If the error is \"acceptable,\" we will randomly sample more in that neighborhood of m, x and sigam.\n",
    "If the error is large, we will 'jump' elsewhere and try sampling there.\n",
    "Note: the first 1000 values will be discarded. They are to warm-up the model."
   ]
  },
  {
   "cell_type": "code",
   "execution_count": null,
   "metadata": {},
   "outputs": [
    {
     "name": "stderr",
     "output_type": "stream",
     "text": [
      "Auto-assigning NUTS sampler...\n",
      "Initializing NUTS using jitter+adapt_diag...\n",
      "Multiprocess sampling (2 chains in 4 jobs)\n",
      "NUTS: [intercept, slope, sigma]\n",
      "Sampling 2 chains:  10%|█████▌                                                 | 2228/22000 [01:30<15:11, 21.69draws/s]"
     ]
    }
   ],
   "source": [
    "with model:\n",
    "    trace = pm.sample(10000, \n",
    "                      chains=2,\n",
    "                      tune=1000)"
   ]
  },
  {
   "cell_type": "markdown",
   "metadata": {},
   "source": [
    "### Peek inside Trace\n",
    "\n",
    "It is perfectly okay to look under the hood."
   ]
  },
  {
   "cell_type": "code",
   "execution_count": null,
   "metadata": {},
   "outputs": [],
   "source": [
    "len(trace)"
   ]
  },
  {
   "cell_type": "code",
   "execution_count": null,
   "metadata": {
    "scrolled": true
   },
   "outputs": [],
   "source": [
    "trace[4319]"
   ]
  },
  {
   "cell_type": "markdown",
   "metadata": {},
   "source": [
    "So trace is a List.\n",
    "It is a list of dictionaries.\n",
    "It is a list of 10,000 dictionaries"
   ]
  },
  {
   "cell_type": "code",
   "execution_count": null,
   "metadata": {},
   "outputs": [],
   "source": [
    "pm.traceplot(trace);\n",
    "axes = pm.plot_posterior(trace)"
   ]
  },
  {
   "cell_type": "code",
   "execution_count": null,
   "metadata": {},
   "outputs": [],
   "source": [
    "plt.hist([x['slope'] for x in trace[9900:]])"
   ]
  },
  {
   "cell_type": "markdown",
   "metadata": {},
   "source": [
    "### Homework\n",
    "\n",
    "TO develop some intuition about MCMC and errors and sampling, we can hand-crank it."
   ]
  },
  {
   "cell_type": "code",
   "execution_count": null,
   "metadata": {},
   "outputs": [],
   "source": [
    "guess_m = 2.9\n",
    "guess_c = 4\n",
    "y_predicted = [(guess_m * x_obs + guess_c) for x_obs in x]\n",
    "\n",
    "errors = y_predicted - y\n",
    "sum(abs(errors))"
   ]
  },
  {
   "cell_type": "code",
   "execution_count": null,
   "metadata": {},
   "outputs": [],
   "source": []
  },
  {
   "cell_type": "code",
   "execution_count": null,
   "metadata": {},
   "outputs": [],
   "source": []
  }
 ],
 "metadata": {
  "kernelspec": {
   "display_name": "Python 3",
   "language": "python",
   "name": "python3"
  },
  "language_info": {
   "codemirror_mode": {
    "name": "ipython",
    "version": 3
   },
   "file_extension": ".py",
   "mimetype": "text/x-python",
   "name": "python",
   "nbconvert_exporter": "python",
   "pygments_lexer": "ipython3",
   "version": "3.7.4"
  }
 },
 "nbformat": 4,
 "nbformat_minor": 2
}
